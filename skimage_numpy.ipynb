{
 "cells": [
  {
   "cell_type": "code",
   "execution_count": null,
   "metadata": {},
   "outputs": [],
   "source": [
    "%matplotlib inline\n",
    "from skimage.io import imread, imshow, imsave\n",
    "img = imread('image.png')\n",
    "imshow(img)"
   ]
  },
  {
   "cell_type": "code",
   "execution_count": null,
   "metadata": {},
   "outputs": [],
   "source": [
    "from skimage import img_as_float\n",
    "from numpy import dstack\n",
    "\n",
    "img_f = img_as_float(img)\n",
    "r = img_f[:, :, 0]\n",
    "g = img_f[:, :, 1]\n",
    "b = img_f[:, :, 2]\n",
    "\n",
    "img_comb = dstack((r, g, b))\n",
    "imshow(img_comb)\n",
    "# imshow((r + g + b)/3) in grayscale"
   ]
  }
 ],
 "metadata": {
  "kernelspec": {
   "display_name": "Python 3",
   "language": "python",
   "name": "python3"
  },
  "language_info": {
   "codemirror_mode": {
    "name": "ipython",
    "version": 3
   },
   "file_extension": ".py",
   "mimetype": "text/x-python",
   "name": "python",
   "nbconvert_exporter": "python",
   "pygments_lexer": "ipython3",
   "version": "3.6.2"
  }
 },
 "nbformat": 4,
 "nbformat_minor": 2
}
