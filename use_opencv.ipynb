{
 "cells": [
  {
   "cell_type": "code",
   "execution_count": null,
   "metadata": {},
   "outputs": [],
   "source": [
    "# pip install opencv-python\n",
    "import cv2\n",
    "\n",
    "# open image file\n",
    "img=cv2.imread(\"file_name.jpg\", 1)  # 1 - in RGB , 0 - in grayscale , -1 - in alpha channel (transparency)\n",
    "\n",
    "type(img)  # numpy nd.array\n",
    "\n",
    "# image shape\n",
    "img.shape\n",
    "\n",
    "# image dimensional , in RGB - 3 , in grayscale - 2\n",
    "img.ndim\n",
    "\n",
    "# for open image \n",
    "cv2.imshow(\"some_name_for_window\", img)\n",
    "cv2.waitKey(0)  # time , if 0 - for close push any button ,if 5000 = 5 seconds\n",
    "cv2.destroyAllWindows()"
   ]
  }
 ],
 "metadata": {
  "kernelspec": {
   "display_name": "Python 3",
   "language": "python",
   "name": "python3"
  },
  "language_info": {
   "codemirror_mode": {
    "name": "ipython",
    "version": 3
   },
   "file_extension": ".py",
   "mimetype": "text/x-python",
   "name": "python",
   "nbconvert_exporter": "python",
   "pygments_lexer": "ipython3",
   "version": "3.6.2"
  }
 },
 "nbformat": 4,
 "nbformat_minor": 2
}
