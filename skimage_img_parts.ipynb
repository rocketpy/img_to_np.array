{
 "cells": [
  {
   "cell_type": "code",
   "execution_count": null,
   "metadata": {},
   "outputs": [],
   "source": [
    "%matplotlib inline  # for view images in browser\n",
    "import skimage \n",
    "from skimage.io import imread, imshow, imsave\n",
    "\n",
    "img = imread('image.png')\n",
    "\n",
    "img.shape  # razmer image i , ili  RGB( 3 kanala )\n",
    "img.shape[1]  # kol-vo stolbcov\n",
    "img[350, 370]  # vzyat opredelenniy piksel t.e. info ob vzyatom piksele\n",
    "\n",
    "img[350, 370, 2]  # 2 - eto tretiy kanal (0-red, 1-green, 2-blue )\n",
    "img[350, 370] = [255, 255, 0]  # izmenyaem cvet pikselya na zheltiy\n",
    "\n",
    "imsave('image2.png', img)"
   ]
  },
  {
   "cell_type": "code",
   "execution_count": null,
   "metadata": {},
   "outputs": [],
   "source": [
    "# kopirovanie i vidilenie chasti izobrazheniya\n",
    "%matplotlib inline\n",
    "from skimage.io import imread, imsave, imshow\n",
    "\n",
    "img = imread(image.png)\n",
    "center = img[300:400, 350:450]  # stroki i stolbci\n",
    "imshow(center)\n",
    "img[300:400, 350:450] = [255, 0, 255]  # perekrasim vse vibrannie pikseli v fioletovoy cvet\n",
    "imshow(img)\n",
    "new_img = img.copy()  # skopirovat' izobrazhenie v novuyu peremennuyu\n",
    "imshow(new_img)"
   ]
  }
 ],
 "metadata": {
  "kernelspec": {
   "display_name": "Python 3",
   "language": "python",
   "name": "python3"
  },
  "language_info": {
   "codemirror_mode": {
    "name": "ipython",
    "version": 3
   },
   "file_extension": ".py",
   "mimetype": "text/x-python",
   "name": "python",
   "nbconvert_exporter": "python",
   "pygments_lexer": "ipython3",
   "version": "3.6.2"
  }
 },
 "nbformat": 4,
 "nbformat_minor": 2
}
