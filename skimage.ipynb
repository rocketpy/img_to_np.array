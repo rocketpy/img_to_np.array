{
 "cells": [
  {
   "cell_type": "code",
   "execution_count": null,
   "metadata": {},
   "outputs": [],
   "source": [
    "%matplotlib inline\n",
    "from skimage.io import imshow, imread, imsave\n",
    "\n",
    "# working with image\n",
    "img = imread('image.png')\n",
    "img.dtype  # ('uint8') t.e. chisla ot 0 do 255 , t.e. na odin piksel 1 bait"
   ]
  },
  {
   "cell_type": "code",
   "execution_count": null,
   "metadata": {},
   "outputs": [],
   "source": [
    "from skimage import img_as_float\n",
    "\n",
    "# preobrazuem image v veshestvennie chisla (float)\n",
    "img_f = img_as_float(img)\n",
    "\n",
    "img.min(), img.max()  # (0, 255)\n",
    "img_f.min(), img_f.max()  # (0.0, 1.0)\n",
    "imshow(img_f / 1.5)  # kartinka poteryaet cvet"
   ]
  },
  {
   "cell_type": "code",
   "execution_count": null,
   "metadata": {},
   "outputs": [],
   "source": [
    "from numpy import clip  # danniy metod obrezaet vse chisla bolshe 1\n",
    "# t.e. funkciya clip delaet vse nepravelnie chisla do verhnego i nizhnego poroga (ot 0 do 1)\n",
    "\n",
    "imshow(clip(img_f * 1.5, 0, 1)) # delaem image yarche i v diapazone ot 0 do 1\n",
    "\n",
    "# t.e. pri delenii kartinki na chislo , umensaetsa kontrastnost , pri umnozhenii , kontrastnost uvelichivaetsa.\n",
    "imshow(clip(img_f * 2 - 0.5, 0, 1))  # pri vichitanii kartinka stanovitsa temnee (t.e. cveta stanovyatsa blizhe k chernomu)"
   ]
  }
 ],
 "metadata": {
  "kernelspec": {
   "display_name": "Python 3",
   "language": "python",
   "name": "python3"
  },
  "language_info": {
   "codemirror_mode": {
    "name": "ipython",
    "version": 3
   },
   "file_extension": ".py",
   "mimetype": "text/x-python",
   "name": "python",
   "nbconvert_exporter": "python",
   "pygments_lexer": "ipython3",
   "version": "3.6.2"
  }
 },
 "nbformat": 4,
 "nbformat_minor": 2
}
